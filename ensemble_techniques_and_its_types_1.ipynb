{
  "nbformat": 4,
  "nbformat_minor": 0,
  "metadata": {
    "colab": {
      "provenance": []
    },
    "kernelspec": {
      "name": "python3",
      "display_name": "Python 3"
    },
    "language_info": {
      "name": "python"
    }
  },
  "cells": [
    {
      "cell_type": "markdown",
      "source": [
        "Q1. What is an ensemble technique in machine learning?"
      ],
      "metadata": {
        "id": "QNYOVZUjy28o"
      }
    },
    {
      "cell_type": "code",
      "execution_count": 4,
      "metadata": {
        "id": "E9phx4XeyvOJ"
      },
      "outputs": [],
      "source": [
        "# Ensemble techniques in machine learning are a collection of methods that combine multiple machine learning models to improve the accuracy of predictions\n",
        "# The idea is that a group of learners will be more accurate than a single learner. Ensemble techniques can reduce overfitting and improve generalization,\n",
        "# resulting in more robust models. They can also be useful for handling noisy data.Ensemble techniques can be used for classification, regression, clustering,\n",
        "# and association.\n"
      ]
    },
    {
      "cell_type": "markdown",
      "source": [
        "Q2. Why are ensemble techniques used in machine learning?"
      ],
      "metadata": {
        "id": "aP8WWi7IzdSm"
      }
    },
    {
      "cell_type": "code",
      "source": [
        "# Ensemble techniques are used in machine learning to improve the accuracy and robustness of predictions by combining the outputs of multiple individual models,\n",
        "# often leading to better performance than any single model alone, while also reducing overfitting and variance in the predictions; essentially, the\n",
        "# diversity of models helps to make more reliable predictions on unseen data.\n"
      ],
      "metadata": {
        "id": "nBg-SJdDzb1K"
      },
      "execution_count": 5,
      "outputs": []
    },
    {
      "cell_type": "markdown",
      "source": [
        "Q3. What is bagging?"
      ],
      "metadata": {
        "id": "2_Xt8CE70RkZ"
      }
    },
    {
      "cell_type": "code",
      "source": [
        "# Bagging, or bootstrap aggregating, is a machine learning technique that uses multiple models to improve the accuracy and stability of predictions.\n",
        "# Bagging is effective because it reduces variance and overfitting in the model. It does this by exposing the models to different parts of the dataset,\n",
        "# which helps to introduce diversity among the models.\n"
      ],
      "metadata": {
        "id": "vz_YfgPv0Hs4"
      },
      "execution_count": 6,
      "outputs": []
    },
    {
      "cell_type": "markdown",
      "source": [
        "Q4. What is boosting?"
      ],
      "metadata": {
        "id": "bKISEk8I0oEH"
      }
    },
    {
      "cell_type": "code",
      "source": [
        "# Boosting is a machine learning technique that combines multiple weak learners into a single strong learner to improve predictive accuracy\n",
        "#  data scientists train models on labeled data to make predictions about unlabeled data. A single model might make errors based on the\n",
        "# accuracy of its training data. Boosting trains multiple models sequentially to improve the overall accuracy of the system."
      ],
      "metadata": {
        "id": "dkNtYdEJ0nW2"
      },
      "execution_count": 7,
      "outputs": []
    },
    {
      "cell_type": "markdown",
      "source": [
        "Q5. What are the benefits of using ensemble techniques?"
      ],
      "metadata": {
        "id": "NhcSTadI0_Yz"
      }
    },
    {
      "cell_type": "code",
      "source": [
        "# Ensemble techniques in machine learning offer several benefits, including significantly improved predictive accuracy, reduced variance and bias,\n",
        "# better stability against noisy data, and the ability to handle complex datasets by combining the strengths of multiple models, making them less prone to overfitting compared to single models\n"
      ],
      "metadata": {
        "id": "dgsqYAXD0-vN"
      },
      "execution_count": 8,
      "outputs": []
    },
    {
      "cell_type": "markdown",
      "source": [
        "Q6. Are ensemble techniques always better than individual models?"
      ],
      "metadata": {
        "id": "kb3Drr2J1WkU"
      }
    },
    {
      "cell_type": "code",
      "source": [
        "'''When Ensembles Might Not Be Better\n",
        "Simplicity of the Problem:\n",
        "\n",
        "If the problem is simple and the dataset is well-structured, a single, well-tuned model (e.g., linear regression for a linear problem) can perform as well as an ensemble.\n",
        "Overfitting:\n",
        "\n",
        "Ensembles can overfit, especially if the base models are too complex or if the ensemble itself is not properly regularized.\n",
        "Computational Complexity:\n",
        "\n",
        "Ensembles are resource-intensive and take longer to train and predict, which may not be ideal for real-time applications.\n",
        "Interpretability:\n",
        "\n",
        "Ensembles are typically less interpretable than simpler models, which can be a limitation in domains requiring explainability.\n",
        "Diminishing Returns:\n",
        "\n",
        "In some cases, the improvement in accuracy from an ensemble may be marginal compared to the added complexity. '''"
      ],
      "metadata": {
        "id": "Syd4TjWJ1WJk"
      },
      "execution_count": null,
      "outputs": []
    },
    {
      "cell_type": "markdown",
      "source": [
        "Q7. How is the confidence interval calculated using bootstrap?"
      ],
      "metadata": {
        "id": "xP4Uhf2y1y4A"
      }
    },
    {
      "cell_type": "code",
      "source": [
        "''' The bootstrap method is a non-parametric statistical technique used to estimate the confidence interval (CI) of a parameter (e.g., mean, median)\n",
        "without relying on strong assumptions about the data distribution.\n",
        "\n",
        "Steps to Calculate Confidence Interval using Bootstrap-\n",
        "\n",
        "1.Generate Bootstrap Samples: Randomly resample (with replacement) from the original dataset to create multiple \"bootstrap samples.\" Each sample is\n",
        " of the same size as the original dataset.\n",
        "\n",
        "2. Calculate the Statistic for Each Sample: For each bootstrap sample, compute the statistic of interest (e.g., mean, median, standard deviation).\n",
        "\n",
        "3.Build the Bootstrap Distribution: Repeat steps 1 and 2 many times (e.g., 1000 or more) to create a distribution of the computed statistic.\n",
        "This is called the bootstrap distribution.\n",
        "\n",
        "4.Report the Confidence Interval: Present the calculated lower and upper bounds as the confidence interval.\n",
        "\n",
        "'''"
      ],
      "metadata": {
        "id": "nf_rrlbD17Ay"
      },
      "execution_count": null,
      "outputs": []
    },
    {
      "cell_type": "markdown",
      "source": [
        "Q8. How does bootstrap work and What are the steps involved in bootstrap?"
      ],
      "metadata": {
        "id": "9s7cpfAJ3ezF"
      }
    },
    {
      "cell_type": "code",
      "source": [
        "''' Bootstrap is a resampling technique used to estimate the sampling distribution of a statistic (e.g., mean, median, variance) by repeatedly\n",
        "resampling from the observed data.\n",
        "\n",
        "Suppose you have a sample [4,5,6,7] and want to estimate the mean and its confidence interval:\n",
        "\n",
        "1. Original Sample: Mean = 5.5\n",
        "2. Generate Bootstrap Samples:\n",
        "    Sample 1: [4,6,6,7], Sample 2: [5,5,7,7], etc.\n",
        "    Repeat 1000 times.\n",
        "3. Compute Statistics: Calculate the mean for each bootstrap sample\n",
        "    Example means: 5.75,5.25,5.5,….\n",
        "4. Analyze the Distribution:\n",
        "    Compute the 2.5th and 97.5th percentiles of the bootstrap means for a 95% CI.\n",
        "    Estimate the standard error as the standard deviation of the bootstrap means.\n",
        "5. Report:\n",
        "    Mean = 5.5, SE = 0.4, 95% CI =[5.1,5.9]\n",
        "'''"
      ],
      "metadata": {
        "id": "7beVUqoJ3jew"
      },
      "execution_count": null,
      "outputs": []
    },
    {
      "cell_type": "markdown",
      "source": [
        "Q9. A researcher wants to estimate the mean height of a population of trees. They measure the height of a\n",
        "sample of 50 trees and obtain a mean height of 15 meters and a standard deviation of 2 meters. Use\n",
        "bootstrap to estimate the 95% confidence interval for the population mean height."
      ],
      "metadata": {
        "id": "Nq8qlgZY4xag"
      }
    },
    {
      "cell_type": "code",
      "source": [
        "#sample size(n)=50\n",
        "#sample mean(x)=15 meters\n",
        "#sample standard deviation(s)=2 meters\n",
        "\n",
        "import numpy as np\n",
        "n=50\n",
        "sample_mean=15\n",
        "sample_std=2\n",
        "B=1000 # no. of bootstrap samples\n",
        "\n",
        "original_sample=np.random.normal(loc=sample_mean,scale=sample_std,size=n)\n",
        "\n",
        "#bootstrap resampling\n",
        "bootstrap_means=[]\n",
        "for  _ in range(B):\n",
        "     bootstrap_sample = np.random.choice(original_sample, size=n, replace=True)\n",
        "     bootstrap_means.append(np.mean(bootstrap_sample))\n",
        "\n",
        "# confidence interval\n",
        "lower_bound=np.percentile(bootstrap_means,2.5)\n",
        "upper_bound=np.percentile(bootstrap_means,97.5)\n",
        "\n",
        "lower_bound,upper_bound"
      ],
      "metadata": {
        "colab": {
          "base_uri": "https://localhost:8080/"
        },
        "id": "T4aAyijB4zs9",
        "outputId": "7a4b5747-0426-459a-e6a5-bf8915c18a4b"
      },
      "execution_count": 9,
      "outputs": [
        {
          "output_type": "execute_result",
          "data": {
            "text/plain": [
              "(13.97566089140535, 14.811851829573827)"
            ]
          },
          "metadata": {},
          "execution_count": 9
        }
      ]
    },
    {
      "cell_type": "code",
      "source": [],
      "metadata": {
        "id": "FyTrJ1rk6XoV"
      },
      "execution_count": null,
      "outputs": []
    }
  ]
}